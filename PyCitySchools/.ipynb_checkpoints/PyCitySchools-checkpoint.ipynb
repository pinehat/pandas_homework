{
 "cells": [
  {
   "cell_type": "markdown",
   "metadata": {},
   "source": [
    "# PyCity Schools Analysis\n",
    "\n",
    "* As a whole, schools with higher budgets, did not yield better test results. By contrast, schools with higher spending per student actually (\\$645-675) underperformed compared to schools with smaller budgets (<\\$585 per student).\n",
    "\n",
    "* As a whole, smaller and medium sized schools dramatically out-performed large sized schools on passing math performances (89-91% passing vs 67%).\n",
    "\n",
    "* As a whole, charter schools out-performed the public district schools across all metrics. However, more analysis will be required to glean if the effect is due to school practices or the fact that charter schools tend to serve smaller student populations per school. \n",
    "---"
   ]
  },
  {
   "cell_type": "markdown",
   "metadata": {},
   "source": [
    "### Note\n",
    "* Instructions have been included for each segment. You do not have to follow them exactly, but they are included to help you think through the steps."
   ]
  },
  {
   "cell_type": "code",
   "execution_count": 107,
   "metadata": {},
   "outputs": [],
   "source": [
    "# Dependencies and Setup\n",
    "import pandas as pd\n",
    "import numpy as np\n",
    "\n",
    "# File to Load (Remember to Change These)\n",
    "school_data_to_load = \"Resources/schools_complete_test.csv\"\n",
    "student_data_to_load = \"Resources/students_complete_test.csv\"\n",
    "\n",
    "# Read School and Student Data File and store into Pandas Data Frames\n",
    "schools_df = pd.read_csv(school_data_to_load)\n",
    "students_df = pd.read_csv(student_data_to_load)\n",
    "\n",
    "# Combine the data into a single dataset\n",
    "school_data_complete = pd.merge(students_df, schools_df, how=\"left\", on=[\"school_name\", \"school_name\"])"
   ]
  },
  {
   "cell_type": "markdown",
   "metadata": {},
   "source": [
    "## District Summary\n",
    "\n",
    "* Calculate the total number of schools\n",
    "\n",
    "* Calculate the total number of students\n",
    "\n",
    "* Calculate the total budget\n",
    "\n",
    "* Calculate the average math score \n",
    "\n",
    "* Calculate the average reading score\n",
    "\n",
    "* Calculate the overall passing rate (overall average score), i.e. (avg. math score + avg. reading score)/2\n",
    "\n",
    "* Calculate the percentage of students with a passing math score (70 or greater)\n",
    "\n",
    "* Calculate the percentage of students with a passing reading score (70 or greater)\n",
    "\n",
    "* Create a dataframe to hold the above results\n",
    "\n",
    "* Optional: give the displayed data cleaner formatting"
   ]
  },
  {
   "cell_type": "code",
   "execution_count": 108,
   "metadata": {
    "scrolled": true
   },
   "outputs": [
    {
     "name": "stdout",
     "output_type": "stream",
     "text": [
      " % passing math is 0.749808526933878\n",
      " % passing reading is 0.8580546336482001\n",
      " % passing overall is 0.8043160582078122\n"
     ]
    },
    {
     "data": {
      "text/html": [
       "<style  type=\"text/css\" >\n",
       "</style><table id=\"T_38fa2bca_90b3_11e9_a663_002268ec03f8\" ><thead>    <tr>        <th class=\"blank level0\" ></th>        <th class=\"col_heading level0 col0\" >Total Schools</th>        <th class=\"col_heading level0 col1\" >Total Students</th>        <th class=\"col_heading level0 col2\" >Total Budget</th>        <th class=\"col_heading level0 col3\" >Average Math Score</th>        <th class=\"col_heading level0 col4\" >Average Reading Score</th>        <th class=\"col_heading level0 col5\" >% Passing Math</th>        <th class=\"col_heading level0 col6\" >% Passing Reading</th>        <th class=\"col_heading level0 col7\" >% Overall Passing Rate</th>    </tr></thead><tbody>\n",
       "                <tr>\n",
       "                        <th id=\"T_38fa2bca_90b3_11e9_a663_002268ec03f8level0_row0\" class=\"row_heading level0 row0\" >0</th>\n",
       "                        <td id=\"T_38fa2bca_90b3_11e9_a663_002268ec03f8row0_col0\" class=\"data row0 col0\" >15</td>\n",
       "                        <td id=\"T_38fa2bca_90b3_11e9_a663_002268ec03f8row0_col1\" class=\"data row0 col1\" >39,170</td>\n",
       "                        <td id=\"T_38fa2bca_90b3_11e9_a663_002268ec03f8row0_col2\" class=\"data row0 col2\" >$24,649,428.00</td>\n",
       "                        <td id=\"T_38fa2bca_90b3_11e9_a663_002268ec03f8row0_col3\" class=\"data row0 col3\" >79.0</td>\n",
       "                        <td id=\"T_38fa2bca_90b3_11e9_a663_002268ec03f8row0_col4\" class=\"data row0 col4\" >81.9</td>\n",
       "                        <td id=\"T_38fa2bca_90b3_11e9_a663_002268ec03f8row0_col5\" class=\"data row0 col5\" >75.0%</td>\n",
       "                        <td id=\"T_38fa2bca_90b3_11e9_a663_002268ec03f8row0_col6\" class=\"data row0 col6\" >85.8%</td>\n",
       "                        <td id=\"T_38fa2bca_90b3_11e9_a663_002268ec03f8row0_col7\" class=\"data row0 col7\" >80.4%</td>\n",
       "            </tr>\n",
       "    </tbody></table>"
      ],
      "text/plain": [
       "<pandas.io.formats.style.Styler at 0x1a01ac279e8>"
      ]
     },
     "execution_count": 108,
     "metadata": {},
     "output_type": "execute_result"
    }
   ],
   "source": [
    "total_schools = len(schools_df.index)\n",
    "total_students = len(students_df.index)\n",
    "total_budget = schools_df[\"budget\"].sum()\n",
    "avg_math_score = students_df[\"math_score\"].mean()\n",
    "avg_reading_score = students_df[\"reading_score\"].mean()\n",
    "percent_passing_math = len(students_df.loc[students_df['math_score'] >= 70]) / total_students\n",
    "print(f\" % passing math is {percent_passing_math}\")\n",
    "percent_passing_reading = len(students_df.loc[students_df['reading_score'] >= 70]) / total_students\n",
    "print(f\" % passing reading is {percent_passing_reading}\")\n",
    "\n",
    "percent_passing_overall = (avg_math_score + avg_reading_score) / 200\n",
    "print(f\" % passing overall is {percent_passing_overall}\")\n",
    "\n",
    "pycityschools_df = pd.DataFrame(\n",
    "    {\"Total Schools\":[total_schools],\n",
    "     \"Total Students\":[total_students],\n",
    "     \"Total Budget\":[total_budget],\n",
    "     \"Average Math Score\":[avg_math_score],                                       \n",
    "     \"Average Reading Score\":[avg_reading_score],\n",
    "     \"% Passing Math\":[percent_passing_math],\n",
    "     \"% Passing Reading\":[percent_passing_reading],\n",
    "     \"% Overall Passing Rate\":[percent_passing_overall]\n",
    "    })\n",
    "\n",
    "pycityschools_df.style.format({\"Total Students\":\"{:,}\",\n",
    "                        \"Total Budget\": \"${:,.2f}\", \n",
    "                       \"Average Math Score\": \"{:.1f}\",               \n",
    "                       \"Average Reading Score\": \"{:.1f}\", \n",
    "                       \"% Passing Math\": \"{:.1%}\", \n",
    "                       \"% Passing Reading\": \"{:.1%}\",\n",
    "                       \"% Overall Passing Rate\": \"{:.1%}\"})\n"
   ]
  },
  {
   "cell_type": "markdown",
   "metadata": {},
   "source": [
    "## School Summary"
   ]
  },
  {
   "cell_type": "markdown",
   "metadata": {},
   "source": [
    "* Create an overview table that summarizes key metrics about each school, including:\n",
    "  * School Name\n",
    "  * School Type\n",
    "  * Total Students\n",
    "  * Total School Budget\n",
    "  * Per Student Budget\n",
    "  * Average Math Score\n",
    "  * Average Reading Score\n",
    "  * % Passing Math\n",
    "  * % Passing Reading\n",
    "  * Overall Passing Rate (Average of the above two)\n",
    "  \n",
    "* Create a dataframe to hold the above results"
   ]
  },
  {
   "cell_type": "code",
   "execution_count": 122,
   "metadata": {
    "scrolled": true
   },
   "outputs": [],
   "source": [
    "# groups by school\n",
    "by_school_df = school_data_complete.set_index('school_name').groupby(['school_name'])\n",
    "\n",
    "# school types\n",
    "types_df = schools_df.set_index('school_name')['type']\n",
    "#print(f\"types_df = {types_df}\")\n",
    "#print(\"----------------\")\n",
    "\n",
    "# students per school\n",
    "students_per_school_df = by_school_df['student_name'].count()\n",
    "#print(f\"students_per_school = {students_per_school}\")\n",
    "#print(\"----------------\")\n",
    "\n",
    "# school budgets\n",
    "budget_df = schools_df.set_index('school_name')['budget']\n",
    "#print(f\"budget_df = {budget_df}\")\n",
    "#print(\"----------------\")\n",
    "\n",
    "#per student budget\n",
    "student_budget_df = schools_df.set_index('school_name')['budget']/schools_df.set_index('school_name')['size']\n",
    "#print(f\"per student budget = {student_budget}\")\n",
    "#print(\"----------------\")\n",
    "\n",
    "#avg scores by school\n",
    "average_math_score_schools = by_school_df['math_score'].mean()\n",
    "average_reading_score_schools = by_school_df['reading_score'].mean()\n",
    "#print(f\"avg math by schools = {average_math_score_schools}\")\n",
    "#print(\"----------------\")\n",
    "#print(f\"avg read score by schools = {average_reading_score_schools}\")\n",
    "#print(\"----------------\")\n",
    "\n",
    "# % passing scores\n",
    "pass_math = school_data_complete[school_data_complete['math_score'] >= 70].groupby('school_name')['student_name'].count()/students_per_school_df\n",
    "#print(f\"pass math = {pass_math}\")\n",
    "#print(\"----------------\")\n",
    "\n",
    "pass_read = school_data_complete[school_data_complete['reading_score'] >= 70].groupby('school_name')['student_name'].count()/students_per_school_df \n",
    "#print(f\"pass read = {pass_read}\")\n",
    "#print(\"----------------\")\n",
    "\n",
    "overall = (pass_math + pass_read) / 2\n",
    "\n",
    "#overall = school_data_complete[(school_data_complete['reading_score'] >= 70) & (school_data_complete['math_score'] >= 70)].groupby('school_name')['student_name'].count()/students_per_school_df \n",
    "#print(f\"overall = {overall}\")\n",
    "#print(\"----------------\")\n",
    "\n",
    "school_summary = pd.DataFrame({\n",
    "    \"School Type\": types_df,\n",
    "    \"Total Students\": students_per_school_df,\n",
    "    \"Per Student Budget\": student_budget_df,\n",
    "    \"Total School Budget\": budget_df,\n",
    "    \"Average Math Score\": average_math_score_schools,\n",
    "    \"Average Reading Score\": average_reading_score_schools,\n",
    "    '% Passing Math': pass_math,\n",
    "    '% Passing Reading': pass_read,\n",
    "    \"Overall Passing Rate\": overall\n",
    "})\n",
    "#sch_summary"
   ]
  },
  {
   "cell_type": "markdown",
   "metadata": {},
   "source": [
    "## Top Performing Schools (By Passing Rate)"
   ]
  },
  {
   "cell_type": "markdown",
   "metadata": {},
   "source": [
    "* Sort and display the top five schools in overall passing rate"
   ]
  },
  {
   "cell_type": "code",
   "execution_count": 126,
   "metadata": {},
   "outputs": [
    {
     "data": {
      "text/html": [
       "<style  type=\"text/css\" >\n",
       "</style><table id=\"T_aaf15a36_90b9_11e9_b6b4_002268ec03f8\" ><thead>    <tr>        <th class=\"blank level0\" ></th>        <th class=\"col_heading level0 col0\" >School Type</th>        <th class=\"col_heading level0 col1\" >Total Students</th>        <th class=\"col_heading level0 col2\" >Per Student Budget</th>        <th class=\"col_heading level0 col3\" >Total School Budget</th>        <th class=\"col_heading level0 col4\" >Average Math Score</th>        <th class=\"col_heading level0 col5\" >Average Reading Score</th>        <th class=\"col_heading level0 col6\" >% Passing Math</th>        <th class=\"col_heading level0 col7\" >% Passing Reading</th>        <th class=\"col_heading level0 col8\" >Overall Passing Rate</th>    </tr></thead><tbody>\n",
       "                <tr>\n",
       "                        <th id=\"T_aaf15a36_90b9_11e9_b6b4_002268ec03f8level0_row0\" class=\"row_heading level0 row0\" >Cabrera High School</th>\n",
       "                        <td id=\"T_aaf15a36_90b9_11e9_b6b4_002268ec03f8row0_col0\" class=\"data row0 col0\" >Charter</td>\n",
       "                        <td id=\"T_aaf15a36_90b9_11e9_b6b4_002268ec03f8row0_col1\" class=\"data row0 col1\" >1,858</td>\n",
       "                        <td id=\"T_aaf15a36_90b9_11e9_b6b4_002268ec03f8row0_col2\" class=\"data row0 col2\" >$582</td>\n",
       "                        <td id=\"T_aaf15a36_90b9_11e9_b6b4_002268ec03f8row0_col3\" class=\"data row0 col3\" >$1,081,356</td>\n",
       "                        <td id=\"T_aaf15a36_90b9_11e9_b6b4_002268ec03f8row0_col4\" class=\"data row0 col4\" >83.0619</td>\n",
       "                        <td id=\"T_aaf15a36_90b9_11e9_b6b4_002268ec03f8row0_col5\" class=\"data row0 col5\" >83.9758</td>\n",
       "                        <td id=\"T_aaf15a36_90b9_11e9_b6b4_002268ec03f8row0_col6\" class=\"data row0 col6\" >94.1%</td>\n",
       "                        <td id=\"T_aaf15a36_90b9_11e9_b6b4_002268ec03f8row0_col7\" class=\"data row0 col7\" >97.0%</td>\n",
       "                        <td id=\"T_aaf15a36_90b9_11e9_b6b4_002268ec03f8row0_col8\" class=\"data row0 col8\" >95.59%</td>\n",
       "            </tr>\n",
       "            <tr>\n",
       "                        <th id=\"T_aaf15a36_90b9_11e9_b6b4_002268ec03f8level0_row1\" class=\"row_heading level0 row1\" >Thomas High School</th>\n",
       "                        <td id=\"T_aaf15a36_90b9_11e9_b6b4_002268ec03f8row1_col0\" class=\"data row1 col0\" >Charter</td>\n",
       "                        <td id=\"T_aaf15a36_90b9_11e9_b6b4_002268ec03f8row1_col1\" class=\"data row1 col1\" >1,635</td>\n",
       "                        <td id=\"T_aaf15a36_90b9_11e9_b6b4_002268ec03f8row1_col2\" class=\"data row1 col2\" >$638</td>\n",
       "                        <td id=\"T_aaf15a36_90b9_11e9_b6b4_002268ec03f8row1_col3\" class=\"data row1 col3\" >$1,043,130</td>\n",
       "                        <td id=\"T_aaf15a36_90b9_11e9_b6b4_002268ec03f8row1_col4\" class=\"data row1 col4\" >83.4183</td>\n",
       "                        <td id=\"T_aaf15a36_90b9_11e9_b6b4_002268ec03f8row1_col5\" class=\"data row1 col5\" >83.8489</td>\n",
       "                        <td id=\"T_aaf15a36_90b9_11e9_b6b4_002268ec03f8row1_col6\" class=\"data row1 col6\" >93.3%</td>\n",
       "                        <td id=\"T_aaf15a36_90b9_11e9_b6b4_002268ec03f8row1_col7\" class=\"data row1 col7\" >97.3%</td>\n",
       "                        <td id=\"T_aaf15a36_90b9_11e9_b6b4_002268ec03f8row1_col8\" class=\"data row1 col8\" >95.29%</td>\n",
       "            </tr>\n",
       "            <tr>\n",
       "                        <th id=\"T_aaf15a36_90b9_11e9_b6b4_002268ec03f8level0_row2\" class=\"row_heading level0 row2\" >Pena High School</th>\n",
       "                        <td id=\"T_aaf15a36_90b9_11e9_b6b4_002268ec03f8row2_col0\" class=\"data row2 col0\" >Charter</td>\n",
       "                        <td id=\"T_aaf15a36_90b9_11e9_b6b4_002268ec03f8row2_col1\" class=\"data row2 col1\" >962</td>\n",
       "                        <td id=\"T_aaf15a36_90b9_11e9_b6b4_002268ec03f8row2_col2\" class=\"data row2 col2\" >$609</td>\n",
       "                        <td id=\"T_aaf15a36_90b9_11e9_b6b4_002268ec03f8row2_col3\" class=\"data row2 col3\" >$585,858</td>\n",
       "                        <td id=\"T_aaf15a36_90b9_11e9_b6b4_002268ec03f8row2_col4\" class=\"data row2 col4\" >83.8399</td>\n",
       "                        <td id=\"T_aaf15a36_90b9_11e9_b6b4_002268ec03f8row2_col5\" class=\"data row2 col5\" >84.0447</td>\n",
       "                        <td id=\"T_aaf15a36_90b9_11e9_b6b4_002268ec03f8row2_col6\" class=\"data row2 col6\" >94.6%</td>\n",
       "                        <td id=\"T_aaf15a36_90b9_11e9_b6b4_002268ec03f8row2_col7\" class=\"data row2 col7\" >95.9%</td>\n",
       "                        <td id=\"T_aaf15a36_90b9_11e9_b6b4_002268ec03f8row2_col8\" class=\"data row2 col8\" >95.27%</td>\n",
       "            </tr>\n",
       "            <tr>\n",
       "                        <th id=\"T_aaf15a36_90b9_11e9_b6b4_002268ec03f8level0_row3\" class=\"row_heading level0 row3\" >Griffin High School</th>\n",
       "                        <td id=\"T_aaf15a36_90b9_11e9_b6b4_002268ec03f8row3_col0\" class=\"data row3 col0\" >Charter</td>\n",
       "                        <td id=\"T_aaf15a36_90b9_11e9_b6b4_002268ec03f8row3_col1\" class=\"data row3 col1\" >1,468</td>\n",
       "                        <td id=\"T_aaf15a36_90b9_11e9_b6b4_002268ec03f8row3_col2\" class=\"data row3 col2\" >$625</td>\n",
       "                        <td id=\"T_aaf15a36_90b9_11e9_b6b4_002268ec03f8row3_col3\" class=\"data row3 col3\" >$917,500</td>\n",
       "                        <td id=\"T_aaf15a36_90b9_11e9_b6b4_002268ec03f8row3_col4\" class=\"data row3 col4\" >83.3515</td>\n",
       "                        <td id=\"T_aaf15a36_90b9_11e9_b6b4_002268ec03f8row3_col5\" class=\"data row3 col5\" >83.8168</td>\n",
       "                        <td id=\"T_aaf15a36_90b9_11e9_b6b4_002268ec03f8row3_col6\" class=\"data row3 col6\" >93.4%</td>\n",
       "                        <td id=\"T_aaf15a36_90b9_11e9_b6b4_002268ec03f8row3_col7\" class=\"data row3 col7\" >97.1%</td>\n",
       "                        <td id=\"T_aaf15a36_90b9_11e9_b6b4_002268ec03f8row3_col8\" class=\"data row3 col8\" >95.27%</td>\n",
       "            </tr>\n",
       "            <tr>\n",
       "                        <th id=\"T_aaf15a36_90b9_11e9_b6b4_002268ec03f8level0_row4\" class=\"row_heading level0 row4\" >Wilson High School</th>\n",
       "                        <td id=\"T_aaf15a36_90b9_11e9_b6b4_002268ec03f8row4_col0\" class=\"data row4 col0\" >Charter</td>\n",
       "                        <td id=\"T_aaf15a36_90b9_11e9_b6b4_002268ec03f8row4_col1\" class=\"data row4 col1\" >2,283</td>\n",
       "                        <td id=\"T_aaf15a36_90b9_11e9_b6b4_002268ec03f8row4_col2\" class=\"data row4 col2\" >$578</td>\n",
       "                        <td id=\"T_aaf15a36_90b9_11e9_b6b4_002268ec03f8row4_col3\" class=\"data row4 col3\" >$1,319,574</td>\n",
       "                        <td id=\"T_aaf15a36_90b9_11e9_b6b4_002268ec03f8row4_col4\" class=\"data row4 col4\" >83.2742</td>\n",
       "                        <td id=\"T_aaf15a36_90b9_11e9_b6b4_002268ec03f8row4_col5\" class=\"data row4 col5\" >83.9895</td>\n",
       "                        <td id=\"T_aaf15a36_90b9_11e9_b6b4_002268ec03f8row4_col6\" class=\"data row4 col6\" >93.9%</td>\n",
       "                        <td id=\"T_aaf15a36_90b9_11e9_b6b4_002268ec03f8row4_col7\" class=\"data row4 col7\" >96.5%</td>\n",
       "                        <td id=\"T_aaf15a36_90b9_11e9_b6b4_002268ec03f8row4_col8\" class=\"data row4 col8\" >95.20%</td>\n",
       "            </tr>\n",
       "    </tbody></table>"
      ],
      "text/plain": [
       "<pandas.io.formats.style.Styler at 0x1a01a373c50>"
      ]
     },
     "execution_count": 126,
     "metadata": {},
     "output_type": "execute_result"
    }
   ],
   "source": [
    "top_five_schools = school_summary.sort_values(\"Overall Passing Rate\", ascending = False)\n",
    "top_five_schools.head(5).style.format({\n",
    "    \"Total Students\": '{:,}',\n",
    "    \"Total School Budget\": \"${:,}\", \n",
    "    \"Per Student Budget\": \"${:.0f}\",\n",
    "    #\"Average Math Score\": \"{:.1%}\", \n",
    "    #\"Average Reading Score\": \"{:.1%}\",         \n",
    "    \"% Passing Math\": \"{:.1%}\", \n",
    "    \"% Passing Reading\": \"{:.1%}\", \n",
    "    \"Overall Passing Rate\": \"{:.2%}\"})"
   ]
  },
  {
   "cell_type": "markdown",
   "metadata": {},
   "source": [
    "## Bottom Performing Schools (By Passing Rate)"
   ]
  },
  {
   "cell_type": "markdown",
   "metadata": {},
   "source": [
    "* Sort and display the five worst-performing schools"
   ]
  },
  {
   "cell_type": "code",
   "execution_count": 127,
   "metadata": {},
   "outputs": [
    {
     "data": {
      "text/html": [
       "<style  type=\"text/css\" >\n",
       "</style><table id=\"T_b822e2be_90b9_11e9_9039_002268ec03f8\" ><thead>    <tr>        <th class=\"blank level0\" ></th>        <th class=\"col_heading level0 col0\" >School Type</th>        <th class=\"col_heading level0 col1\" >Total Students</th>        <th class=\"col_heading level0 col2\" >Per Student Budget</th>        <th class=\"col_heading level0 col3\" >Total School Budget</th>        <th class=\"col_heading level0 col4\" >Average Math Score</th>        <th class=\"col_heading level0 col5\" >Average Reading Score</th>        <th class=\"col_heading level0 col6\" >% Passing Math</th>        <th class=\"col_heading level0 col7\" >% Passing Reading</th>        <th class=\"col_heading level0 col8\" >Overall Passing Rate</th>    </tr></thead><tbody>\n",
       "                <tr>\n",
       "                        <th id=\"T_b822e2be_90b9_11e9_9039_002268ec03f8level0_row0\" class=\"row_heading level0 row0\" >Rodriguez High School</th>\n",
       "                        <td id=\"T_b822e2be_90b9_11e9_9039_002268ec03f8row0_col0\" class=\"data row0 col0\" >District</td>\n",
       "                        <td id=\"T_b822e2be_90b9_11e9_9039_002268ec03f8row0_col1\" class=\"data row0 col1\" >3,999</td>\n",
       "                        <td id=\"T_b822e2be_90b9_11e9_9039_002268ec03f8row0_col2\" class=\"data row0 col2\" >$637</td>\n",
       "                        <td id=\"T_b822e2be_90b9_11e9_9039_002268ec03f8row0_col3\" class=\"data row0 col3\" >$2,547,363</td>\n",
       "                        <td id=\"T_b822e2be_90b9_11e9_9039_002268ec03f8row0_col4\" class=\"data row0 col4\" >76.8427</td>\n",
       "                        <td id=\"T_b822e2be_90b9_11e9_9039_002268ec03f8row0_col5\" class=\"data row0 col5\" >80.7447</td>\n",
       "                        <td id=\"T_b822e2be_90b9_11e9_9039_002268ec03f8row0_col6\" class=\"data row0 col6\" >66.4%</td>\n",
       "                        <td id=\"T_b822e2be_90b9_11e9_9039_002268ec03f8row0_col7\" class=\"data row0 col7\" >80.2%</td>\n",
       "                        <td id=\"T_b822e2be_90b9_11e9_9039_002268ec03f8row0_col8\" class=\"data row0 col8\" >73.3%</td>\n",
       "            </tr>\n",
       "            <tr>\n",
       "                        <th id=\"T_b822e2be_90b9_11e9_9039_002268ec03f8level0_row1\" class=\"row_heading level0 row1\" >Figueroa High School</th>\n",
       "                        <td id=\"T_b822e2be_90b9_11e9_9039_002268ec03f8row1_col0\" class=\"data row1 col0\" >District</td>\n",
       "                        <td id=\"T_b822e2be_90b9_11e9_9039_002268ec03f8row1_col1\" class=\"data row1 col1\" >2,949</td>\n",
       "                        <td id=\"T_b822e2be_90b9_11e9_9039_002268ec03f8row1_col2\" class=\"data row1 col2\" >$639</td>\n",
       "                        <td id=\"T_b822e2be_90b9_11e9_9039_002268ec03f8row1_col3\" class=\"data row1 col3\" >$1,884,411</td>\n",
       "                        <td id=\"T_b822e2be_90b9_11e9_9039_002268ec03f8row1_col4\" class=\"data row1 col4\" >76.7118</td>\n",
       "                        <td id=\"T_b822e2be_90b9_11e9_9039_002268ec03f8row1_col5\" class=\"data row1 col5\" >81.158</td>\n",
       "                        <td id=\"T_b822e2be_90b9_11e9_9039_002268ec03f8row1_col6\" class=\"data row1 col6\" >66.0%</td>\n",
       "                        <td id=\"T_b822e2be_90b9_11e9_9039_002268ec03f8row1_col7\" class=\"data row1 col7\" >80.7%</td>\n",
       "                        <td id=\"T_b822e2be_90b9_11e9_9039_002268ec03f8row1_col8\" class=\"data row1 col8\" >73.4%</td>\n",
       "            </tr>\n",
       "            <tr>\n",
       "                        <th id=\"T_b822e2be_90b9_11e9_9039_002268ec03f8level0_row2\" class=\"row_heading level0 row2\" >Huang High School</th>\n",
       "                        <td id=\"T_b822e2be_90b9_11e9_9039_002268ec03f8row2_col0\" class=\"data row2 col0\" >District</td>\n",
       "                        <td id=\"T_b822e2be_90b9_11e9_9039_002268ec03f8row2_col1\" class=\"data row2 col1\" >2,917</td>\n",
       "                        <td id=\"T_b822e2be_90b9_11e9_9039_002268ec03f8row2_col2\" class=\"data row2 col2\" >$655</td>\n",
       "                        <td id=\"T_b822e2be_90b9_11e9_9039_002268ec03f8row2_col3\" class=\"data row2 col3\" >$1,910,635</td>\n",
       "                        <td id=\"T_b822e2be_90b9_11e9_9039_002268ec03f8row2_col4\" class=\"data row2 col4\" >76.6294</td>\n",
       "                        <td id=\"T_b822e2be_90b9_11e9_9039_002268ec03f8row2_col5\" class=\"data row2 col5\" >81.1827</td>\n",
       "                        <td id=\"T_b822e2be_90b9_11e9_9039_002268ec03f8row2_col6\" class=\"data row2 col6\" >65.7%</td>\n",
       "                        <td id=\"T_b822e2be_90b9_11e9_9039_002268ec03f8row2_col7\" class=\"data row2 col7\" >81.3%</td>\n",
       "                        <td id=\"T_b822e2be_90b9_11e9_9039_002268ec03f8row2_col8\" class=\"data row2 col8\" >73.5%</td>\n",
       "            </tr>\n",
       "            <tr>\n",
       "                        <th id=\"T_b822e2be_90b9_11e9_9039_002268ec03f8level0_row3\" class=\"row_heading level0 row3\" >Johnson High School</th>\n",
       "                        <td id=\"T_b822e2be_90b9_11e9_9039_002268ec03f8row3_col0\" class=\"data row3 col0\" >District</td>\n",
       "                        <td id=\"T_b822e2be_90b9_11e9_9039_002268ec03f8row3_col1\" class=\"data row3 col1\" >4,761</td>\n",
       "                        <td id=\"T_b822e2be_90b9_11e9_9039_002268ec03f8row3_col2\" class=\"data row3 col2\" >$650</td>\n",
       "                        <td id=\"T_b822e2be_90b9_11e9_9039_002268ec03f8row3_col3\" class=\"data row3 col3\" >$3,094,650</td>\n",
       "                        <td id=\"T_b822e2be_90b9_11e9_9039_002268ec03f8row3_col4\" class=\"data row3 col4\" >77.0725</td>\n",
       "                        <td id=\"T_b822e2be_90b9_11e9_9039_002268ec03f8row3_col5\" class=\"data row3 col5\" >80.9664</td>\n",
       "                        <td id=\"T_b822e2be_90b9_11e9_9039_002268ec03f8row3_col6\" class=\"data row3 col6\" >66.1%</td>\n",
       "                        <td id=\"T_b822e2be_90b9_11e9_9039_002268ec03f8row3_col7\" class=\"data row3 col7\" >81.2%</td>\n",
       "                        <td id=\"T_b822e2be_90b9_11e9_9039_002268ec03f8row3_col8\" class=\"data row3 col8\" >73.6%</td>\n",
       "            </tr>\n",
       "            <tr>\n",
       "                        <th id=\"T_b822e2be_90b9_11e9_9039_002268ec03f8level0_row4\" class=\"row_heading level0 row4\" >Ford High School</th>\n",
       "                        <td id=\"T_b822e2be_90b9_11e9_9039_002268ec03f8row4_col0\" class=\"data row4 col0\" >District</td>\n",
       "                        <td id=\"T_b822e2be_90b9_11e9_9039_002268ec03f8row4_col1\" class=\"data row4 col1\" >2,739</td>\n",
       "                        <td id=\"T_b822e2be_90b9_11e9_9039_002268ec03f8row4_col2\" class=\"data row4 col2\" >$644</td>\n",
       "                        <td id=\"T_b822e2be_90b9_11e9_9039_002268ec03f8row4_col3\" class=\"data row4 col3\" >$1,763,916</td>\n",
       "                        <td id=\"T_b822e2be_90b9_11e9_9039_002268ec03f8row4_col4\" class=\"data row4 col4\" >77.1026</td>\n",
       "                        <td id=\"T_b822e2be_90b9_11e9_9039_002268ec03f8row4_col5\" class=\"data row4 col5\" >80.7463</td>\n",
       "                        <td id=\"T_b822e2be_90b9_11e9_9039_002268ec03f8row4_col6\" class=\"data row4 col6\" >68.3%</td>\n",
       "                        <td id=\"T_b822e2be_90b9_11e9_9039_002268ec03f8row4_col7\" class=\"data row4 col7\" >79.3%</td>\n",
       "                        <td id=\"T_b822e2be_90b9_11e9_9039_002268ec03f8row4_col8\" class=\"data row4 col8\" >73.8%</td>\n",
       "            </tr>\n",
       "    </tbody></table>"
      ],
      "text/plain": [
       "<pandas.io.formats.style.Styler at 0x1a01c10ff98>"
      ]
     },
     "execution_count": 127,
     "metadata": {},
     "output_type": "execute_result"
    }
   ],
   "source": [
    "bottom_five_schools = school_summary.sort_values(\"Overall Passing Rate\", ascending = True)\n",
    "bottom_five_schools.head(5).style.format({\n",
    "    \"Total Students\": '{:,}',\n",
    "    \"Total School Budget\": \"${:,}\", \n",
    "    \"Per Student Budget\": \"${:.0f}\",\n",
    "    #\"Average Math Score\": \"{:.1%}\", \n",
    "    #\"Average Reading Score\": \"{:.1%}\",         \n",
    "    \"% Passing Math\": \"{:.1%}\", \n",
    "    \"% Passing Reading\": \"{:.1%}\", \n",
    "    \"Overall Passing Rate\": \"{:.1%}\"})"
   ]
  },
  {
   "cell_type": "markdown",
   "metadata": {
    "collapsed": true
   },
   "source": [
    "## Math Scores by Grade"
   ]
  },
  {
   "cell_type": "markdown",
   "metadata": {},
   "source": [
    "* Create a table that lists the average Reading Score for students of each grade level (9th, 10th, 11th, 12th) at each school.\n",
    "\n",
    "  * Create a pandas series for each grade. Hint: use a conditional statement.\n",
    "  \n",
    "  * Group each series by school\n",
    "  \n",
    "  * Combine the series into a dataframe\n",
    "  \n",
    "  * Optional: give the displayed data cleaner formatting"
   ]
  },
  {
   "cell_type": "code",
   "execution_count": 129,
   "metadata": {},
   "outputs": [
    {
     "data": {
      "text/html": [
       "<style  type=\"text/css\" >\n",
       "</style><table id=\"T_2b2443f0_90ba_11e9_beb4_002268ec03f8\" ><thead>    <tr>        <th class=\"blank level0\" ></th>        <th class=\"col_heading level0 col0\" >9th</th>        <th class=\"col_heading level0 col1\" >10th</th>        <th class=\"col_heading level0 col2\" >11th</th>        <th class=\"col_heading level0 col3\" >12th</th>    </tr>    <tr>        <th class=\"index_name level0\" >School</th>        <th class=\"blank\" ></th>        <th class=\"blank\" ></th>        <th class=\"blank\" ></th>        <th class=\"blank\" ></th>    </tr></thead><tbody>\n",
       "                <tr>\n",
       "                        <th id=\"T_2b2443f0_90ba_11e9_beb4_002268ec03f8level0_row0\" class=\"row_heading level0 row0\" >Bailey High School</th>\n",
       "                        <td id=\"T_2b2443f0_90ba_11e9_beb4_002268ec03f8row0_col0\" class=\"data row0 col0\" >77.1</td>\n",
       "                        <td id=\"T_2b2443f0_90ba_11e9_beb4_002268ec03f8row0_col1\" class=\"data row0 col1\" >77.0</td>\n",
       "                        <td id=\"T_2b2443f0_90ba_11e9_beb4_002268ec03f8row0_col2\" class=\"data row0 col2\" >77.5</td>\n",
       "                        <td id=\"T_2b2443f0_90ba_11e9_beb4_002268ec03f8row0_col3\" class=\"data row0 col3\" >76.5</td>\n",
       "            </tr>\n",
       "            <tr>\n",
       "                        <th id=\"T_2b2443f0_90ba_11e9_beb4_002268ec03f8level0_row1\" class=\"row_heading level0 row1\" >Cabrera High School</th>\n",
       "                        <td id=\"T_2b2443f0_90ba_11e9_beb4_002268ec03f8row1_col0\" class=\"data row1 col0\" >83.1</td>\n",
       "                        <td id=\"T_2b2443f0_90ba_11e9_beb4_002268ec03f8row1_col1\" class=\"data row1 col1\" >83.2</td>\n",
       "                        <td id=\"T_2b2443f0_90ba_11e9_beb4_002268ec03f8row1_col2\" class=\"data row1 col2\" >82.8</td>\n",
       "                        <td id=\"T_2b2443f0_90ba_11e9_beb4_002268ec03f8row1_col3\" class=\"data row1 col3\" >83.3</td>\n",
       "            </tr>\n",
       "            <tr>\n",
       "                        <th id=\"T_2b2443f0_90ba_11e9_beb4_002268ec03f8level0_row2\" class=\"row_heading level0 row2\" >Figueroa High School</th>\n",
       "                        <td id=\"T_2b2443f0_90ba_11e9_beb4_002268ec03f8row2_col0\" class=\"data row2 col0\" >76.4</td>\n",
       "                        <td id=\"T_2b2443f0_90ba_11e9_beb4_002268ec03f8row2_col1\" class=\"data row2 col1\" >76.5</td>\n",
       "                        <td id=\"T_2b2443f0_90ba_11e9_beb4_002268ec03f8row2_col2\" class=\"data row2 col2\" >76.9</td>\n",
       "                        <td id=\"T_2b2443f0_90ba_11e9_beb4_002268ec03f8row2_col3\" class=\"data row2 col3\" >77.2</td>\n",
       "            </tr>\n",
       "            <tr>\n",
       "                        <th id=\"T_2b2443f0_90ba_11e9_beb4_002268ec03f8level0_row3\" class=\"row_heading level0 row3\" >Ford High School</th>\n",
       "                        <td id=\"T_2b2443f0_90ba_11e9_beb4_002268ec03f8row3_col0\" class=\"data row3 col0\" >77.4</td>\n",
       "                        <td id=\"T_2b2443f0_90ba_11e9_beb4_002268ec03f8row3_col1\" class=\"data row3 col1\" >77.7</td>\n",
       "                        <td id=\"T_2b2443f0_90ba_11e9_beb4_002268ec03f8row3_col2\" class=\"data row3 col2\" >76.9</td>\n",
       "                        <td id=\"T_2b2443f0_90ba_11e9_beb4_002268ec03f8row3_col3\" class=\"data row3 col3\" >76.2</td>\n",
       "            </tr>\n",
       "            <tr>\n",
       "                        <th id=\"T_2b2443f0_90ba_11e9_beb4_002268ec03f8level0_row4\" class=\"row_heading level0 row4\" >Griffin High School</th>\n",
       "                        <td id=\"T_2b2443f0_90ba_11e9_beb4_002268ec03f8row4_col0\" class=\"data row4 col0\" >82.0</td>\n",
       "                        <td id=\"T_2b2443f0_90ba_11e9_beb4_002268ec03f8row4_col1\" class=\"data row4 col1\" >84.2</td>\n",
       "                        <td id=\"T_2b2443f0_90ba_11e9_beb4_002268ec03f8row4_col2\" class=\"data row4 col2\" >83.8</td>\n",
       "                        <td id=\"T_2b2443f0_90ba_11e9_beb4_002268ec03f8row4_col3\" class=\"data row4 col3\" >83.4</td>\n",
       "            </tr>\n",
       "            <tr>\n",
       "                        <th id=\"T_2b2443f0_90ba_11e9_beb4_002268ec03f8level0_row5\" class=\"row_heading level0 row5\" >Hernandez High School</th>\n",
       "                        <td id=\"T_2b2443f0_90ba_11e9_beb4_002268ec03f8row5_col0\" class=\"data row5 col0\" >77.4</td>\n",
       "                        <td id=\"T_2b2443f0_90ba_11e9_beb4_002268ec03f8row5_col1\" class=\"data row5 col1\" >77.3</td>\n",
       "                        <td id=\"T_2b2443f0_90ba_11e9_beb4_002268ec03f8row5_col2\" class=\"data row5 col2\" >77.1</td>\n",
       "                        <td id=\"T_2b2443f0_90ba_11e9_beb4_002268ec03f8row5_col3\" class=\"data row5 col3\" >77.2</td>\n",
       "            </tr>\n",
       "            <tr>\n",
       "                        <th id=\"T_2b2443f0_90ba_11e9_beb4_002268ec03f8level0_row6\" class=\"row_heading level0 row6\" >Holden High School</th>\n",
       "                        <td id=\"T_2b2443f0_90ba_11e9_beb4_002268ec03f8row6_col0\" class=\"data row6 col0\" >83.8</td>\n",
       "                        <td id=\"T_2b2443f0_90ba_11e9_beb4_002268ec03f8row6_col1\" class=\"data row6 col1\" >83.4</td>\n",
       "                        <td id=\"T_2b2443f0_90ba_11e9_beb4_002268ec03f8row6_col2\" class=\"data row6 col2\" >85.0</td>\n",
       "                        <td id=\"T_2b2443f0_90ba_11e9_beb4_002268ec03f8row6_col3\" class=\"data row6 col3\" >82.9</td>\n",
       "            </tr>\n",
       "            <tr>\n",
       "                        <th id=\"T_2b2443f0_90ba_11e9_beb4_002268ec03f8level0_row7\" class=\"row_heading level0 row7\" >Huang High School</th>\n",
       "                        <td id=\"T_2b2443f0_90ba_11e9_beb4_002268ec03f8row7_col0\" class=\"data row7 col0\" >77.0</td>\n",
       "                        <td id=\"T_2b2443f0_90ba_11e9_beb4_002268ec03f8row7_col1\" class=\"data row7 col1\" >75.9</td>\n",
       "                        <td id=\"T_2b2443f0_90ba_11e9_beb4_002268ec03f8row7_col2\" class=\"data row7 col2\" >76.4</td>\n",
       "                        <td id=\"T_2b2443f0_90ba_11e9_beb4_002268ec03f8row7_col3\" class=\"data row7 col3\" >77.2</td>\n",
       "            </tr>\n",
       "            <tr>\n",
       "                        <th id=\"T_2b2443f0_90ba_11e9_beb4_002268ec03f8level0_row8\" class=\"row_heading level0 row8\" >Johnson High School</th>\n",
       "                        <td id=\"T_2b2443f0_90ba_11e9_beb4_002268ec03f8row8_col0\" class=\"data row8 col0\" >77.2</td>\n",
       "                        <td id=\"T_2b2443f0_90ba_11e9_beb4_002268ec03f8row8_col1\" class=\"data row8 col1\" >76.7</td>\n",
       "                        <td id=\"T_2b2443f0_90ba_11e9_beb4_002268ec03f8row8_col2\" class=\"data row8 col2\" >77.5</td>\n",
       "                        <td id=\"T_2b2443f0_90ba_11e9_beb4_002268ec03f8row8_col3\" class=\"data row8 col3\" >76.9</td>\n",
       "            </tr>\n",
       "            <tr>\n",
       "                        <th id=\"T_2b2443f0_90ba_11e9_beb4_002268ec03f8level0_row9\" class=\"row_heading level0 row9\" >Pena High School</th>\n",
       "                        <td id=\"T_2b2443f0_90ba_11e9_beb4_002268ec03f8row9_col0\" class=\"data row9 col0\" >83.6</td>\n",
       "                        <td id=\"T_2b2443f0_90ba_11e9_beb4_002268ec03f8row9_col1\" class=\"data row9 col1\" >83.4</td>\n",
       "                        <td id=\"T_2b2443f0_90ba_11e9_beb4_002268ec03f8row9_col2\" class=\"data row9 col2\" >84.3</td>\n",
       "                        <td id=\"T_2b2443f0_90ba_11e9_beb4_002268ec03f8row9_col3\" class=\"data row9 col3\" >84.1</td>\n",
       "            </tr>\n",
       "            <tr>\n",
       "                        <th id=\"T_2b2443f0_90ba_11e9_beb4_002268ec03f8level0_row10\" class=\"row_heading level0 row10\" >Rodriguez High School</th>\n",
       "                        <td id=\"T_2b2443f0_90ba_11e9_beb4_002268ec03f8row10_col0\" class=\"data row10 col0\" >76.9</td>\n",
       "                        <td id=\"T_2b2443f0_90ba_11e9_beb4_002268ec03f8row10_col1\" class=\"data row10 col1\" >76.6</td>\n",
       "                        <td id=\"T_2b2443f0_90ba_11e9_beb4_002268ec03f8row10_col2\" class=\"data row10 col2\" >76.4</td>\n",
       "                        <td id=\"T_2b2443f0_90ba_11e9_beb4_002268ec03f8row10_col3\" class=\"data row10 col3\" >77.7</td>\n",
       "            </tr>\n",
       "            <tr>\n",
       "                        <th id=\"T_2b2443f0_90ba_11e9_beb4_002268ec03f8level0_row11\" class=\"row_heading level0 row11\" >Shelton High School</th>\n",
       "                        <td id=\"T_2b2443f0_90ba_11e9_beb4_002268ec03f8row11_col0\" class=\"data row11 col0\" >83.4</td>\n",
       "                        <td id=\"T_2b2443f0_90ba_11e9_beb4_002268ec03f8row11_col1\" class=\"data row11 col1\" >82.9</td>\n",
       "                        <td id=\"T_2b2443f0_90ba_11e9_beb4_002268ec03f8row11_col2\" class=\"data row11 col2\" >83.4</td>\n",
       "                        <td id=\"T_2b2443f0_90ba_11e9_beb4_002268ec03f8row11_col3\" class=\"data row11 col3\" >83.8</td>\n",
       "            </tr>\n",
       "            <tr>\n",
       "                        <th id=\"T_2b2443f0_90ba_11e9_beb4_002268ec03f8level0_row12\" class=\"row_heading level0 row12\" >Thomas High School</th>\n",
       "                        <td id=\"T_2b2443f0_90ba_11e9_beb4_002268ec03f8row12_col0\" class=\"data row12 col0\" >83.6</td>\n",
       "                        <td id=\"T_2b2443f0_90ba_11e9_beb4_002268ec03f8row12_col1\" class=\"data row12 col1\" >83.1</td>\n",
       "                        <td id=\"T_2b2443f0_90ba_11e9_beb4_002268ec03f8row12_col2\" class=\"data row12 col2\" >83.5</td>\n",
       "                        <td id=\"T_2b2443f0_90ba_11e9_beb4_002268ec03f8row12_col3\" class=\"data row12 col3\" >83.5</td>\n",
       "            </tr>\n",
       "            <tr>\n",
       "                        <th id=\"T_2b2443f0_90ba_11e9_beb4_002268ec03f8level0_row13\" class=\"row_heading level0 row13\" >Wilson High School</th>\n",
       "                        <td id=\"T_2b2443f0_90ba_11e9_beb4_002268ec03f8row13_col0\" class=\"data row13 col0\" >83.1</td>\n",
       "                        <td id=\"T_2b2443f0_90ba_11e9_beb4_002268ec03f8row13_col1\" class=\"data row13 col1\" >83.7</td>\n",
       "                        <td id=\"T_2b2443f0_90ba_11e9_beb4_002268ec03f8row13_col2\" class=\"data row13 col2\" >83.2</td>\n",
       "                        <td id=\"T_2b2443f0_90ba_11e9_beb4_002268ec03f8row13_col3\" class=\"data row13 col3\" >83.0</td>\n",
       "            </tr>\n",
       "            <tr>\n",
       "                        <th id=\"T_2b2443f0_90ba_11e9_beb4_002268ec03f8level0_row14\" class=\"row_heading level0 row14\" >Wright High School</th>\n",
       "                        <td id=\"T_2b2443f0_90ba_11e9_beb4_002268ec03f8row14_col0\" class=\"data row14 col0\" >83.3</td>\n",
       "                        <td id=\"T_2b2443f0_90ba_11e9_beb4_002268ec03f8row14_col1\" class=\"data row14 col1\" >84.0</td>\n",
       "                        <td id=\"T_2b2443f0_90ba_11e9_beb4_002268ec03f8row14_col2\" class=\"data row14 col2\" >83.8</td>\n",
       "                        <td id=\"T_2b2443f0_90ba_11e9_beb4_002268ec03f8row14_col3\" class=\"data row14 col3\" >83.6</td>\n",
       "            </tr>\n",
       "    </tbody></table>"
      ],
      "text/plain": [
       "<pandas.io.formats.style.Styler at 0x1a0185dceb8>"
      ]
     },
     "execution_count": 129,
     "metadata": {},
     "output_type": "execute_result"
    }
   ],
   "source": [
    "#creates grade level average math scores for each school \n",
    "ninth_math = students_df.loc[students_df['grade'] == '9th'].groupby('school_name')[\"math_score\"].mean()\n",
    "tenth_math = students_df.loc[students_df['grade'] == '10th'].groupby('school_name')[\"math_score\"].mean()\n",
    "eleventh_math = students_df.loc[students_df['grade'] == '11th'].groupby('school_name')[\"math_score\"].mean()\n",
    "twelfth_math = students_df.loc[students_df['grade'] == '12th'].groupby('school_name')[\"math_score\"].mean()\n",
    "\n",
    "math_scores = pd.DataFrame({\n",
    "        \"9th\": ninth_math,\n",
    "        \"10th\": tenth_math,\n",
    "        \"11th\": eleventh_math,\n",
    "        \"12th\": twelfth_math\n",
    "})\n",
    "math_scores = math_scores[['9th', '10th', '11th', '12th']]\n",
    "math_scores.index.name = \"School\"\n",
    "\n",
    "#show and format\n",
    "math_scores.style.format({'9th': '{:.1f}', \n",
    "                          \"10th\": '{:.1f}', \n",
    "                          \"11th\": \"{:.1f}\", \n",
    "                          \"12th\": \"{:.1f}\"})"
   ]
  },
  {
   "cell_type": "markdown",
   "metadata": {},
   "source": [
    "## Reading Score by Grade "
   ]
  },
  {
   "cell_type": "markdown",
   "metadata": {},
   "source": [
    "* Perform the same operations as above for reading scores"
   ]
  },
  {
   "cell_type": "code",
   "execution_count": 130,
   "metadata": {},
   "outputs": [
    {
     "data": {
      "text/html": [
       "<style  type=\"text/css\" >\n",
       "</style><table id=\"T_6eab683a_90ba_11e9_8727_002268ec03f8\" ><thead>    <tr>        <th class=\"blank level0\" ></th>        <th class=\"col_heading level0 col0\" >9th</th>        <th class=\"col_heading level0 col1\" >10th</th>        <th class=\"col_heading level0 col2\" >11th</th>        <th class=\"col_heading level0 col3\" >12th</th>    </tr>    <tr>        <th class=\"index_name level0\" >School</th>        <th class=\"blank\" ></th>        <th class=\"blank\" ></th>        <th class=\"blank\" ></th>        <th class=\"blank\" ></th>    </tr></thead><tbody>\n",
       "                <tr>\n",
       "                        <th id=\"T_6eab683a_90ba_11e9_8727_002268ec03f8level0_row0\" class=\"row_heading level0 row0\" >Bailey High School</th>\n",
       "                        <td id=\"T_6eab683a_90ba_11e9_8727_002268ec03f8row0_col0\" class=\"data row0 col0\" >81.3</td>\n",
       "                        <td id=\"T_6eab683a_90ba_11e9_8727_002268ec03f8row0_col1\" class=\"data row0 col1\" >80.9</td>\n",
       "                        <td id=\"T_6eab683a_90ba_11e9_8727_002268ec03f8row0_col2\" class=\"data row0 col2\" >80.9</td>\n",
       "                        <td id=\"T_6eab683a_90ba_11e9_8727_002268ec03f8row0_col3\" class=\"data row0 col3\" >80.9</td>\n",
       "            </tr>\n",
       "            <tr>\n",
       "                        <th id=\"T_6eab683a_90ba_11e9_8727_002268ec03f8level0_row1\" class=\"row_heading level0 row1\" >Cabrera High School</th>\n",
       "                        <td id=\"T_6eab683a_90ba_11e9_8727_002268ec03f8row1_col0\" class=\"data row1 col0\" >83.7</td>\n",
       "                        <td id=\"T_6eab683a_90ba_11e9_8727_002268ec03f8row1_col1\" class=\"data row1 col1\" >84.3</td>\n",
       "                        <td id=\"T_6eab683a_90ba_11e9_8727_002268ec03f8row1_col2\" class=\"data row1 col2\" >83.8</td>\n",
       "                        <td id=\"T_6eab683a_90ba_11e9_8727_002268ec03f8row1_col3\" class=\"data row1 col3\" >84.3</td>\n",
       "            </tr>\n",
       "            <tr>\n",
       "                        <th id=\"T_6eab683a_90ba_11e9_8727_002268ec03f8level0_row2\" class=\"row_heading level0 row2\" >Figueroa High School</th>\n",
       "                        <td id=\"T_6eab683a_90ba_11e9_8727_002268ec03f8row2_col0\" class=\"data row2 col0\" >81.2</td>\n",
       "                        <td id=\"T_6eab683a_90ba_11e9_8727_002268ec03f8row2_col1\" class=\"data row2 col1\" >81.4</td>\n",
       "                        <td id=\"T_6eab683a_90ba_11e9_8727_002268ec03f8row2_col2\" class=\"data row2 col2\" >80.6</td>\n",
       "                        <td id=\"T_6eab683a_90ba_11e9_8727_002268ec03f8row2_col3\" class=\"data row2 col3\" >81.4</td>\n",
       "            </tr>\n",
       "            <tr>\n",
       "                        <th id=\"T_6eab683a_90ba_11e9_8727_002268ec03f8level0_row3\" class=\"row_heading level0 row3\" >Ford High School</th>\n",
       "                        <td id=\"T_6eab683a_90ba_11e9_8727_002268ec03f8row3_col0\" class=\"data row3 col0\" >80.6</td>\n",
       "                        <td id=\"T_6eab683a_90ba_11e9_8727_002268ec03f8row3_col1\" class=\"data row3 col1\" >81.3</td>\n",
       "                        <td id=\"T_6eab683a_90ba_11e9_8727_002268ec03f8row3_col2\" class=\"data row3 col2\" >80.4</td>\n",
       "                        <td id=\"T_6eab683a_90ba_11e9_8727_002268ec03f8row3_col3\" class=\"data row3 col3\" >80.7</td>\n",
       "            </tr>\n",
       "            <tr>\n",
       "                        <th id=\"T_6eab683a_90ba_11e9_8727_002268ec03f8level0_row4\" class=\"row_heading level0 row4\" >Griffin High School</th>\n",
       "                        <td id=\"T_6eab683a_90ba_11e9_8727_002268ec03f8row4_col0\" class=\"data row4 col0\" >83.4</td>\n",
       "                        <td id=\"T_6eab683a_90ba_11e9_8727_002268ec03f8row4_col1\" class=\"data row4 col1\" >83.7</td>\n",
       "                        <td id=\"T_6eab683a_90ba_11e9_8727_002268ec03f8row4_col2\" class=\"data row4 col2\" >84.3</td>\n",
       "                        <td id=\"T_6eab683a_90ba_11e9_8727_002268ec03f8row4_col3\" class=\"data row4 col3\" >84.0</td>\n",
       "            </tr>\n",
       "            <tr>\n",
       "                        <th id=\"T_6eab683a_90ba_11e9_8727_002268ec03f8level0_row5\" class=\"row_heading level0 row5\" >Hernandez High School</th>\n",
       "                        <td id=\"T_6eab683a_90ba_11e9_8727_002268ec03f8row5_col0\" class=\"data row5 col0\" >80.9</td>\n",
       "                        <td id=\"T_6eab683a_90ba_11e9_8727_002268ec03f8row5_col1\" class=\"data row5 col1\" >80.7</td>\n",
       "                        <td id=\"T_6eab683a_90ba_11e9_8727_002268ec03f8row5_col2\" class=\"data row5 col2\" >81.4</td>\n",
       "                        <td id=\"T_6eab683a_90ba_11e9_8727_002268ec03f8row5_col3\" class=\"data row5 col3\" >80.9</td>\n",
       "            </tr>\n",
       "            <tr>\n",
       "                        <th id=\"T_6eab683a_90ba_11e9_8727_002268ec03f8level0_row6\" class=\"row_heading level0 row6\" >Holden High School</th>\n",
       "                        <td id=\"T_6eab683a_90ba_11e9_8727_002268ec03f8row6_col0\" class=\"data row6 col0\" >83.7</td>\n",
       "                        <td id=\"T_6eab683a_90ba_11e9_8727_002268ec03f8row6_col1\" class=\"data row6 col1\" >83.3</td>\n",
       "                        <td id=\"T_6eab683a_90ba_11e9_8727_002268ec03f8row6_col2\" class=\"data row6 col2\" >83.8</td>\n",
       "                        <td id=\"T_6eab683a_90ba_11e9_8727_002268ec03f8row6_col3\" class=\"data row6 col3\" >84.7</td>\n",
       "            </tr>\n",
       "            <tr>\n",
       "                        <th id=\"T_6eab683a_90ba_11e9_8727_002268ec03f8level0_row7\" class=\"row_heading level0 row7\" >Huang High School</th>\n",
       "                        <td id=\"T_6eab683a_90ba_11e9_8727_002268ec03f8row7_col0\" class=\"data row7 col0\" >81.3</td>\n",
       "                        <td id=\"T_6eab683a_90ba_11e9_8727_002268ec03f8row7_col1\" class=\"data row7 col1\" >81.5</td>\n",
       "                        <td id=\"T_6eab683a_90ba_11e9_8727_002268ec03f8row7_col2\" class=\"data row7 col2\" >81.4</td>\n",
       "                        <td id=\"T_6eab683a_90ba_11e9_8727_002268ec03f8row7_col3\" class=\"data row7 col3\" >80.3</td>\n",
       "            </tr>\n",
       "            <tr>\n",
       "                        <th id=\"T_6eab683a_90ba_11e9_8727_002268ec03f8level0_row8\" class=\"row_heading level0 row8\" >Johnson High School</th>\n",
       "                        <td id=\"T_6eab683a_90ba_11e9_8727_002268ec03f8row8_col0\" class=\"data row8 col0\" >81.3</td>\n",
       "                        <td id=\"T_6eab683a_90ba_11e9_8727_002268ec03f8row8_col1\" class=\"data row8 col1\" >80.8</td>\n",
       "                        <td id=\"T_6eab683a_90ba_11e9_8727_002268ec03f8row8_col2\" class=\"data row8 col2\" >80.6</td>\n",
       "                        <td id=\"T_6eab683a_90ba_11e9_8727_002268ec03f8row8_col3\" class=\"data row8 col3\" >81.2</td>\n",
       "            </tr>\n",
       "            <tr>\n",
       "                        <th id=\"T_6eab683a_90ba_11e9_8727_002268ec03f8level0_row9\" class=\"row_heading level0 row9\" >Pena High School</th>\n",
       "                        <td id=\"T_6eab683a_90ba_11e9_8727_002268ec03f8row9_col0\" class=\"data row9 col0\" >83.8</td>\n",
       "                        <td id=\"T_6eab683a_90ba_11e9_8727_002268ec03f8row9_col1\" class=\"data row9 col1\" >83.6</td>\n",
       "                        <td id=\"T_6eab683a_90ba_11e9_8727_002268ec03f8row9_col2\" class=\"data row9 col2\" >84.3</td>\n",
       "                        <td id=\"T_6eab683a_90ba_11e9_8727_002268ec03f8row9_col3\" class=\"data row9 col3\" >84.6</td>\n",
       "            </tr>\n",
       "            <tr>\n",
       "                        <th id=\"T_6eab683a_90ba_11e9_8727_002268ec03f8level0_row10\" class=\"row_heading level0 row10\" >Rodriguez High School</th>\n",
       "                        <td id=\"T_6eab683a_90ba_11e9_8727_002268ec03f8row10_col0\" class=\"data row10 col0\" >81.0</td>\n",
       "                        <td id=\"T_6eab683a_90ba_11e9_8727_002268ec03f8row10_col1\" class=\"data row10 col1\" >80.6</td>\n",
       "                        <td id=\"T_6eab683a_90ba_11e9_8727_002268ec03f8row10_col2\" class=\"data row10 col2\" >80.9</td>\n",
       "                        <td id=\"T_6eab683a_90ba_11e9_8727_002268ec03f8row10_col3\" class=\"data row10 col3\" >80.4</td>\n",
       "            </tr>\n",
       "            <tr>\n",
       "                        <th id=\"T_6eab683a_90ba_11e9_8727_002268ec03f8level0_row11\" class=\"row_heading level0 row11\" >Shelton High School</th>\n",
       "                        <td id=\"T_6eab683a_90ba_11e9_8727_002268ec03f8row11_col0\" class=\"data row11 col0\" >84.1</td>\n",
       "                        <td id=\"T_6eab683a_90ba_11e9_8727_002268ec03f8row11_col1\" class=\"data row11 col1\" >83.4</td>\n",
       "                        <td id=\"T_6eab683a_90ba_11e9_8727_002268ec03f8row11_col2\" class=\"data row11 col2\" >84.4</td>\n",
       "                        <td id=\"T_6eab683a_90ba_11e9_8727_002268ec03f8row11_col3\" class=\"data row11 col3\" >82.8</td>\n",
       "            </tr>\n",
       "            <tr>\n",
       "                        <th id=\"T_6eab683a_90ba_11e9_8727_002268ec03f8level0_row12\" class=\"row_heading level0 row12\" >Thomas High School</th>\n",
       "                        <td id=\"T_6eab683a_90ba_11e9_8727_002268ec03f8row12_col0\" class=\"data row12 col0\" >83.7</td>\n",
       "                        <td id=\"T_6eab683a_90ba_11e9_8727_002268ec03f8row12_col1\" class=\"data row12 col1\" >84.3</td>\n",
       "                        <td id=\"T_6eab683a_90ba_11e9_8727_002268ec03f8row12_col2\" class=\"data row12 col2\" >83.6</td>\n",
       "                        <td id=\"T_6eab683a_90ba_11e9_8727_002268ec03f8row12_col3\" class=\"data row12 col3\" >83.8</td>\n",
       "            </tr>\n",
       "            <tr>\n",
       "                        <th id=\"T_6eab683a_90ba_11e9_8727_002268ec03f8level0_row13\" class=\"row_heading level0 row13\" >Wilson High School</th>\n",
       "                        <td id=\"T_6eab683a_90ba_11e9_8727_002268ec03f8row13_col0\" class=\"data row13 col0\" >83.9</td>\n",
       "                        <td id=\"T_6eab683a_90ba_11e9_8727_002268ec03f8row13_col1\" class=\"data row13 col1\" >84.0</td>\n",
       "                        <td id=\"T_6eab683a_90ba_11e9_8727_002268ec03f8row13_col2\" class=\"data row13 col2\" >83.8</td>\n",
       "                        <td id=\"T_6eab683a_90ba_11e9_8727_002268ec03f8row13_col3\" class=\"data row13 col3\" >84.3</td>\n",
       "            </tr>\n",
       "            <tr>\n",
       "                        <th id=\"T_6eab683a_90ba_11e9_8727_002268ec03f8level0_row14\" class=\"row_heading level0 row14\" >Wright High School</th>\n",
       "                        <td id=\"T_6eab683a_90ba_11e9_8727_002268ec03f8row14_col0\" class=\"data row14 col0\" >83.8</td>\n",
       "                        <td id=\"T_6eab683a_90ba_11e9_8727_002268ec03f8row14_col1\" class=\"data row14 col1\" >83.8</td>\n",
       "                        <td id=\"T_6eab683a_90ba_11e9_8727_002268ec03f8row14_col2\" class=\"data row14 col2\" >84.2</td>\n",
       "                        <td id=\"T_6eab683a_90ba_11e9_8727_002268ec03f8row14_col3\" class=\"data row14 col3\" >84.1</td>\n",
       "            </tr>\n",
       "    </tbody></table>"
      ],
      "text/plain": [
       "<pandas.io.formats.style.Styler at 0x1a01c10fba8>"
      ]
     },
     "execution_count": 130,
     "metadata": {},
     "output_type": "execute_result"
    }
   ],
   "source": [
    "#creates grade level average reading scores for each school\n",
    "ninth_reading = students_df.loc[students_df['grade'] == '9th'].groupby('school_name')[\"reading_score\"].mean()\n",
    "tenth_reading = students_df.loc[students_df['grade'] == '10th'].groupby('school_name')[\"reading_score\"].mean()\n",
    "eleventh_reading = students_df.loc[students_df['grade'] == '11th'].groupby('school_name')[\"reading_score\"].mean()\n",
    "twelfth_reading = students_df.loc[students_df['grade'] == '12th'].groupby('school_name')[\"reading_score\"].mean()\n",
    "\n",
    "#merges the reading score averages by school and grade together\n",
    "reading_scores = pd.DataFrame({\n",
    "        \"9th\": ninth_reading,\n",
    "        \"10th\": tenth_reading,\n",
    "        \"11th\": eleventh_reading,\n",
    "        \"12th\": twelfth_reading\n",
    "})\n",
    "reading_scores = reading_scores[['9th', '10th', '11th', '12th']]\n",
    "reading_scores.index.name = \"School\"\n",
    "\n",
    "#format\n",
    "reading_scores.style.format({'9th': '{:.1f}', \n",
    "                             \"10th\": '{:.1f}', \n",
    "                             \"11th\": \"{:.1f}\", \n",
    "                             \"12th\": \"{:.1f}\"})"
   ]
  },
  {
   "cell_type": "markdown",
   "metadata": {},
   "source": [
    "## Scores by School Spending"
   ]
  },
  {
   "cell_type": "markdown",
   "metadata": {},
   "source": [
    "* Create a table that breaks down school performances based on average Spending Ranges (Per Student). Use 4 reasonable bins to group school spending. Include in the table each of the following:\n",
    "  * Average Math Score\n",
    "  * Average Reading Score\n",
    "  * % Passing Math\n",
    "  * % Passing Reading\n",
    "  * Overall Passing Rate (Average of the above two)"
   ]
  },
  {
   "cell_type": "code",
   "execution_count": 111,
   "metadata": {},
   "outputs": [],
   "source": [
    "# Sample bins. Feel free to create your own bins.\n",
    "spending_bins = [0, 585, 615, 645, 675]\n",
    "group_names = [\"<$585\", \"$585-615\", \"$615-645\", \"$645-675\"]"
   ]
  },
  {
   "cell_type": "code",
   "execution_count": 134,
   "metadata": {
    "scrolled": true
   },
   "outputs": [
    {
     "data": {
      "text/html": [
       "<style  type=\"text/css\" >\n",
       "</style><table id=\"T_377ddff0_90bc_11e9_a58c_002268ec03f8\" ><thead>    <tr>        <th class=\"blank level0\" ></th>        <th class=\"col_heading level0 col0\" >Average Math Score</th>        <th class=\"col_heading level0 col1\" >Average Reading Score</th>        <th class=\"col_heading level0 col2\" >% Passing Math</th>        <th class=\"col_heading level0 col3\" >% Passing Reading</th>        <th class=\"col_heading level0 col4\" >% Overall Passing Rate</th>    </tr>    <tr>        <th class=\"index_name level0\" >Per Student Budget</th>        <th class=\"blank\" ></th>        <th class=\"blank\" ></th>        <th class=\"blank\" ></th>        <th class=\"blank\" ></th>        <th class=\"blank\" ></th>    </tr></thead><tbody>\n",
       "                <tr>\n",
       "                        <th id=\"T_377ddff0_90bc_11e9_a58c_002268ec03f8level0_row0\" class=\"row_heading level0 row0\" >< $585</th>\n",
       "                        <td id=\"T_377ddff0_90bc_11e9_a58c_002268ec03f8row0_col0\" class=\"data row0 col0\" >83.363</td>\n",
       "                        <td id=\"T_377ddff0_90bc_11e9_a58c_002268ec03f8row0_col1\" class=\"data row0 col1\" >83.964</td>\n",
       "                        <td id=\"T_377ddff0_90bc_11e9_a58c_002268ec03f8row0_col2\" class=\"data row0 col2\" >93.7%</td>\n",
       "                        <td id=\"T_377ddff0_90bc_11e9_a58c_002268ec03f8row0_col3\" class=\"data row0 col3\" >96.7%</td>\n",
       "                        <td id=\"T_377ddff0_90bc_11e9_a58c_002268ec03f8row0_col4\" class=\"data row0 col4\" >90.6%</td>\n",
       "            </tr>\n",
       "            <tr>\n",
       "                        <th id=\"T_377ddff0_90bc_11e9_a58c_002268ec03f8level0_row1\" class=\"row_heading level0 row1\" >$585-615</th>\n",
       "                        <td id=\"T_377ddff0_90bc_11e9_a58c_002268ec03f8row1_col0\" class=\"data row1 col0\" >83.529</td>\n",
       "                        <td id=\"T_377ddff0_90bc_11e9_a58c_002268ec03f8row1_col1\" class=\"data row1 col1\" >83.838</td>\n",
       "                        <td id=\"T_377ddff0_90bc_11e9_a58c_002268ec03f8row1_col2\" class=\"data row1 col2\" >94.1%</td>\n",
       "                        <td id=\"T_377ddff0_90bc_11e9_a58c_002268ec03f8row1_col3\" class=\"data row1 col3\" >95.9%</td>\n",
       "                        <td id=\"T_377ddff0_90bc_11e9_a58c_002268ec03f8row1_col4\" class=\"data row1 col4\" >90.1%</td>\n",
       "            </tr>\n",
       "            <tr>\n",
       "                        <th id=\"T_377ddff0_90bc_11e9_a58c_002268ec03f8level0_row2\" class=\"row_heading level0 row2\" >$615-645</th>\n",
       "                        <td id=\"T_377ddff0_90bc_11e9_a58c_002268ec03f8row2_col0\" class=\"data row2 col0\" >78.062</td>\n",
       "                        <td id=\"T_377ddff0_90bc_11e9_a58c_002268ec03f8row2_col1\" class=\"data row2 col1\" >81.434</td>\n",
       "                        <td id=\"T_377ddff0_90bc_11e9_a58c_002268ec03f8row2_col2\" class=\"data row2 col2\" >71.4%</td>\n",
       "                        <td id=\"T_377ddff0_90bc_11e9_a58c_002268ec03f8row2_col3\" class=\"data row2 col3\" >83.6%</td>\n",
       "                        <td id=\"T_377ddff0_90bc_11e9_a58c_002268ec03f8row2_col4\" class=\"data row2 col4\" >60.3%</td>\n",
       "            </tr>\n",
       "            <tr>\n",
       "                        <th id=\"T_377ddff0_90bc_11e9_a58c_002268ec03f8level0_row3\" class=\"row_heading level0 row3\" >$645-675</th>\n",
       "                        <td id=\"T_377ddff0_90bc_11e9_a58c_002268ec03f8row3_col0\" class=\"data row3 col0\" >77.049</td>\n",
       "                        <td id=\"T_377ddff0_90bc_11e9_a58c_002268ec03f8row3_col1\" class=\"data row3 col1\" >81.006</td>\n",
       "                        <td id=\"T_377ddff0_90bc_11e9_a58c_002268ec03f8row3_col2\" class=\"data row3 col2\" >66.2%</td>\n",
       "                        <td id=\"T_377ddff0_90bc_11e9_a58c_002268ec03f8row3_col3\" class=\"data row3 col3\" >81.1%</td>\n",
       "                        <td id=\"T_377ddff0_90bc_11e9_a58c_002268ec03f8row3_col4\" class=\"data row3 col4\" >53.5%</td>\n",
       "            </tr>\n",
       "    </tbody></table>"
      ],
      "text/plain": [
       "<pandas.io.formats.style.Styler at 0x1a01a00ac88>"
      ]
     },
     "execution_count": 134,
     "metadata": {},
     "output_type": "execute_result"
    }
   ],
   "source": [
    "# create spending bins\n",
    "bins = [0, 585, 615, 645, 675]\n",
    "group_name = ['< $585', \"$585-615\", \"$615-645\", \"$645-675\"]\n",
    "school_data_complete['spending_bins'] = pd.cut(school_data_complete['budget']/school_data_complete['size'], bins, labels = group_name)\n",
    "\n",
    "#group by spending\n",
    "by_spending = school_data_complete.groupby('spending_bins')\n",
    "\n",
    "#calculations\n",
    "avg_math = by_spending['math_score'].mean()\n",
    "avg_read = by_spending['reading_score'].mean()\n",
    "pass_math = school_data_complete[school_data_complete['math_score'] >= 70].groupby('spending_bins')['student_name'].count()/by_spending['student_name'].count()\n",
    "pass_read = school_data_complete[school_data_complete['reading_score'] >= 70].groupby('spending_bins')['student_name'].count()/by_spending['student_name'].count()\n",
    "overall = school_data_complete[(school_data_complete['reading_score'] >= 70) & (school_data_complete['math_score'] >= 70)].groupby('spending_bins')['student_name'].count()/by_spending['student_name'].count()\n",
    "\n",
    "            \n",
    "# df build            \n",
    "scores_by_spend = pd.DataFrame({\n",
    "    \"Average Math Score\": avg_math,\n",
    "    \"Average Reading Score\": avg_read,\n",
    "    '% Passing Math': pass_math,\n",
    "    '% Passing Reading': pass_read,\n",
    "    \"% Overall Passing Rate\": overall\n",
    "            \n",
    "})\n",
    "            \n",
    "#reorder columns\n",
    "scores_by_spend = scores_by_spend[[\n",
    "    \"Average Math Score\",\n",
    "    \"Average Reading Score\",\n",
    "    '% Passing Math',\n",
    "    '% Passing Reading',\n",
    "    \"% Overall Passing Rate\"\n",
    "]]\n",
    "\n",
    "scores_by_spend.index.name = \"Per Student Budget\"\n",
    "scores_by_spend = scores_by_spend.reindex(group_name)\n",
    "\n",
    "#formating\n",
    "scores_by_spend.style.format({'Average Math Score': '{:.3f}', \n",
    "                              'Average Reading Score': '{:.3f}', \n",
    "                              '% Passing Math': '{:.1%}', \n",
    "                              '% Passing Reading':'{:.1%}', \n",
    "                              '% Overall Passing Rate': '{:.1%}'})"
   ]
  },
  {
   "cell_type": "markdown",
   "metadata": {},
   "source": [
    "## Scores by School Size"
   ]
  },
  {
   "cell_type": "markdown",
   "metadata": {},
   "source": [
    "* Perform the same operations as above, based on school size."
   ]
  },
  {
   "cell_type": "code",
   "execution_count": 112,
   "metadata": {},
   "outputs": [],
   "source": [
    "# Sample bins. Feel free to create your own bins.\n",
    "size_bins = [0, 1000, 2000, 5000]\n",
    "group_names = [\"Small (<1000)\", \"Medium (1000-2000)\", \"Large (2000-5000)\"]"
   ]
  },
  {
   "cell_type": "code",
   "execution_count": null,
   "metadata": {
    "scrolled": true
   },
   "outputs": [],
   "source": []
  },
  {
   "cell_type": "markdown",
   "metadata": {},
   "source": [
    "## Scores by School Type"
   ]
  },
  {
   "cell_type": "markdown",
   "metadata": {},
   "source": [
    "* Perform the same operations as above, based on school type."
   ]
  },
  {
   "cell_type": "code",
   "execution_count": null,
   "metadata": {},
   "outputs": [],
   "source": []
  },
  {
   "cell_type": "code",
   "execution_count": null,
   "metadata": {},
   "outputs": [],
   "source": []
  }
 ],
 "metadata": {
  "anaconda-cloud": {},
  "kernel_info": {
   "name": "python3"
  },
  "kernelspec": {
   "display_name": "Python [conda env:PythonData] *",
   "language": "python",
   "name": "conda-env-PythonData-py"
  },
  "language_info": {
   "codemirror_mode": {
    "name": "ipython",
    "version": 3
   },
   "file_extension": ".py",
   "mimetype": "text/x-python",
   "name": "python",
   "nbconvert_exporter": "python",
   "pygments_lexer": "ipython3",
   "version": "3.6.8"
  },
  "nteract": {
   "version": "0.8.4"
  }
 },
 "nbformat": 4,
 "nbformat_minor": 1
}
